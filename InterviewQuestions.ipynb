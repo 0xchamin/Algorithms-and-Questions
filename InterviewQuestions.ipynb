{
 "cells": [
  {
   "cell_type": "code",
   "execution_count": 20,
   "metadata": {},
   "outputs": [],
   "source": [
    "#largest common sequest\n",
    "def largestCommonSequence(arr):\n",
    "    if len(arr) == 0:\n",
    "        return 'No elements found in the array'\n",
    "    \n",
    "    if len(arr) == 1 :\n",
    "        return ('larget sum %f', arr[0])\n",
    "    \n",
    "    current_sum = calculated_sum = arr[0]\n",
    "    final_sum = 0\n",
    "    for num in arr[1:]:\n",
    "       current_sum = max(num, current_sum + num)\n",
    "       calculated_sum = max(current_sum, calculated_sum)         \n",
    "        \n",
    "    return calculated_sum"
   ]
  },
  {
   "cell_type": "code",
   "execution_count": 21,
   "metadata": {},
   "outputs": [
    {
     "data": {
      "text/plain": [
       "30"
      ]
     },
     "execution_count": 21,
     "metadata": {},
     "output_type": "execute_result"
    }
   ],
   "source": [
    "largestCommonSequence([4, 3, 23, -34, 2, 4])"
   ]
  },
  {
   "cell_type": "code",
   "execution_count": 31,
   "metadata": {},
   "outputs": [],
   "source": [
    "def stock(arr):\n",
    "    buyValue = sellValue = arr[0]\n",
    "    sellDay = buyDay = 0\n",
    "    \n",
    "    for i in range(1,len(arr)):\n",
    "        if arr[i] > buyValue and sellDay >= buyDay:\n",
    "            temp = arr[i]\n",
    "            if temp > sellValue:\n",
    "                sellValue = arr[i]\n",
    "                sellDay = i\n",
    "        else:\n",
    "            sellDay = buyDay = i\n",
    "            sellValue = buyValue = arr[i]\n",
    "    \n",
    "    print(sellDay, buyDay)\n",
    "    \n",
    "   "
   ]
  },
  {
   "cell_type": "code",
   "execution_count": 32,
   "metadata": {},
   "outputs": [
    {
     "name": "stdout",
     "output_type": "stream",
     "text": [
      "3 2\n"
     ]
    }
   ],
   "source": [
    "ex1= [1,2,5,2,6]\n",
    "ex2 = [6, 13, 2, 10, 3, 5]\n",
    "stock(ex2) #\n"
   ]
  },
  {
   "cell_type": "code",
   "execution_count": null,
   "metadata": {},
   "outputs": [],
   "source": []
  }
 ],
 "metadata": {
  "kernelspec": {
   "display_name": "Python 3",
   "language": "python",
   "name": "python3"
  },
  "language_info": {
   "codemirror_mode": {
    "name": "ipython",
    "version": 3
   },
   "file_extension": ".py",
   "mimetype": "text/x-python",
   "name": "python",
   "nbconvert_exporter": "python",
   "pygments_lexer": "ipython3",
   "version": "3.6.4"
  }
 },
 "nbformat": 4,
 "nbformat_minor": 2
}
