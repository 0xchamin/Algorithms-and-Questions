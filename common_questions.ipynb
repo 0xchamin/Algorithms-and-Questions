{
 "cells": [
  {
   "cell_type": "code",
   "execution_count": 9,
   "metadata": {
    "collapsed": false
   },
   "outputs": [],
   "source": [
    "def get_largest_sum(arr):\n",
    "    if len(arr) == 0 :\n",
    "        return 0\n",
    "    \n",
    "    largest_sum = current_sum = arr[0]\n",
    "    \n",
    "    for num in arr[1:]:\n",
    "        current_sum = max( current_sum + num, num)\n",
    "        max_sum = max( current_sum , max_sum)\n",
    "    print (max_sum)\n",
    "     "
   ]
  },
  {
   "cell_type": "code",
   "execution_count": 10,
   "metadata": {
    "collapsed": false
   },
   "outputs": [
    {
     "name": "stdout",
     "output_type": "stream",
     "text": [
      "25\n"
     ]
    }
   ],
   "source": [
    "largest_sum([1,3,5,-3,-2,7,-1,5,8,2])"
   ]
  },
  {
   "cell_type": "code",
   "execution_count": 61,
   "metadata": {
    "collapsed": false
   },
   "outputs": [],
   "source": [
    "def compress_arr(arr):\n",
    "    final_string = \"\"\n",
    "    string_array = list(arr)\n",
    "    distinct_chars = [string_array[0]]\n",
    "    \n",
    "    for char in string_array:\n",
    "        if not char in distinct_chars:\n",
    "            distinct_chars.append(char)\n",
    "    \n",
    "    number_string = \"\"\n",
    "    counter = 0\n",
    "    for char in distinct_chars:\n",
    "        for character in string_array:\n",
    "            if char == character:\n",
    "                counter += 1\n",
    "        number_string += str(counter)\n",
    "        counter = 0\n",
    "    \n",
    "    number_list = list(number_string)\n",
    "    \n",
    "    print(str(distinct_chars))\n",
    "    print(number_string)\n",
    "  #  for i in range(0,len(distinct_chars)):\n",
    "   #     final_string = number_string[i] + str(distinct_chars)[i]\n",
    "\n",
    "  #  print(final_string)"
   ]
  },
  {
   "cell_type": "code",
   "execution_count": 62,
   "metadata": {
    "collapsed": false
   },
   "outputs": [
    {
     "name": "stdout",
     "output_type": "stream",
     "text": [
      "['A', 'B', 'C', 'a', 'b', 'd', 'e', 'D']\n",
      "['A', 'B', 'C', 'a', 'b', 'd', 'e', 'D']\n",
      "32211111\n"
     ]
    }
   ],
   "source": [
    "compress_arr(\"ABCAAaBbCdeD\")"
   ]
  },
  {
   "cell_type": "code",
   "execution_count": null,
   "metadata": {
    "collapsed": true
   },
   "outputs": [],
   "source": [
    "def dates_to_trade(arr):\n",
    "    buy_date = sell_date = arr[0]\n",
    "    max_profit = sell_date - buy_date\n",
    "    sell_date_index = 0\n",
    "    \n",
    "    for price in arr[1:len(arr)]:\n",
    "        if(price <= buy_date && sell_date_index <   ):\n",
    "            buy_date = price\n",
    "            sell_date = price \n",
    "            sell_date_index = price\n",
    "        \n",
    "        if(price > buy_date):\n",
    "            sell_date = price\n",
    "            max_profit = sell_date - buy_date"
   ]
  },
  {
   "cell_type": "code",
   "execution_count": null,
   "metadata": {
    "collapsed": true
   },
   "outputs": [],
   "source": []
  },
  {
   "cell_type": "code",
   "execution_count": null,
   "metadata": {
    "collapsed": true
   },
   "outputs": [],
   "source": []
  },
  {
   "cell_type": "code",
   "execution_count": null,
   "metadata": {
    "collapsed": true
   },
   "outputs": [],
   "source": []
  },
  {
   "cell_type": "code",
   "execution_count": null,
   "metadata": {
    "collapsed": true
   },
   "outputs": [],
   "source": []
  },
  {
   "cell_type": "code",
   "execution_count": null,
   "metadata": {
    "collapsed": true
   },
   "outputs": [],
   "source": []
  },
  {
   "cell_type": "code",
   "execution_count": null,
   "metadata": {
    "collapsed": true
   },
   "outputs": [],
   "source": []
  },
  {
   "cell_type": "code",
   "execution_count": null,
   "metadata": {
    "collapsed": true
   },
   "outputs": [],
   "source": []
  },
  {
   "cell_type": "code",
   "execution_count": null,
   "metadata": {
    "collapsed": true
   },
   "outputs": [],
   "source": []
  },
  {
   "cell_type": "code",
   "execution_count": null,
   "metadata": {
    "collapsed": true
   },
   "outputs": [],
   "source": []
  },
  {
   "cell_type": "code",
   "execution_count": null,
   "metadata": {
    "collapsed": true
   },
   "outputs": [],
   "source": []
  }
 ],
 "metadata": {
  "kernelspec": {
   "display_name": "Python 3",
   "language": "python",
   "name": "python3"
  },
  "language_info": {
   "codemirror_mode": {
    "name": "ipython",
    "version": 3
   },
   "file_extension": ".py",
   "mimetype": "text/x-python",
   "name": "python",
   "nbconvert_exporter": "python",
   "pygments_lexer": "ipython3",
   "version": "3.6.4"
  }
 },
 "nbformat": 4,
 "nbformat_minor": 2
}
